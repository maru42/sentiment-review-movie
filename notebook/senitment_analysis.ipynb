{
 "cells": [
  {
   "cell_type": "code",
   "execution_count": 1,
   "id": "c89d160a-fa69-4e30-b5ab-8805d6072ff9",
   "metadata": {},
   "outputs": [],
   "source": [
    "import os\n",
    "import numpy as np\n",
    "import pandas as pd\n",
    "from tqdm import tqdm\n",
    "from transformers import BertTokenizer, BertModel\n",
    "from sklearn.svm import SVC\n",
    "from sklearn.metrics import classification_report, confusion_matrix\n",
    "import pickle\n",
    "import torch\n",
    "import re"
   ]
  },
  {
   "cell_type": "code",
   "execution_count": 2,
   "id": "a913a37a-fec5-48d0-b749-9ffe7202633f",
   "metadata": {},
   "outputs": [],
   "source": [
    "def load_imdb_data(path, limit=None):\n",
    "    \"\"\"\n",
    "    Fungsi untuk memuat data dari folder dataset IMDb.\n",
    "    Fungsi ini juga akan secara otomatis membersihkan tag HTML dari teks.\n",
    "    \"\"\"\n",
    "    texts = []\n",
    "    labels = []\n",
    "    print(f\"Membaca data dari: {path}\")\n",
    "    for label in ['pos', 'neg']:\n",
    "        label_path = os.path.join(path, label)\n",
    "        files = os.listdir(label_path)\n",
    "        if limit:\n",
    "            files = files[:limit]\n",
    "        \n",
    "        files_iterable = tqdm(files, desc=f'Memuat ulasan {label}')\n",
    "        for file in files_iterable:\n",
    "            with open(os.path.join(label_path, file), encoding='utf-8') as f:\n",
    "                raw_text = f.read()\n",
    "                clean_text = re.sub(r'<.*?>', ' ', raw_text) # Hapus HTML\n",
    "                texts.append(clean_text)\n",
    "                labels.append(1 if label == 'pos' else 0)\n",
    "    return texts, labels"
   ]
  },
  {
   "cell_type": "code",
   "execution_count": 3,
   "id": "b771de4a-2d62-417f-9e10-280c43171acc",
   "metadata": {},
   "outputs": [],
   "source": [
    "base_path = r\"C:\\Users\\mahru\\Downloads\\aclImdb_v1\\aclImdb\"\n",
    "train_path = os.path.join(base_path, \"train\")\n",
    "test_path = os.path.join(base_path, \"test\")"
   ]
  },
  {
   "cell_type": "code",
   "execution_count": 6,
   "id": "f7c9e5c1-f904-4710-98e5-600e634df164",
   "metadata": {},
   "outputs": [],
   "source": [
    "#Muat data train"
   ]
  },
  {
   "cell_type": "code",
   "execution_count": 4,
   "id": "f06fe8ee-5cf8-474b-aa4c-e84fdd58e4af",
   "metadata": {},
   "outputs": [
    {
     "name": "stdout",
     "output_type": "stream",
     "text": [
      "Membaca data dari: C:\\Users\\mahru\\Downloads\\aclImdb_v1\\aclImdb\\train\n"
     ]
    },
    {
     "name": "stderr",
     "output_type": "stream",
     "text": [
      "Memuat ulasan pos: 100%|██████████████████████████████████████████████████████████| 1000/1000 [00:06<00:00, 152.90it/s]\n",
      "Memuat ulasan neg: 100%|██████████████████████████████████████████████████████████| 1000/1000 [00:06<00:00, 156.73it/s]"
     ]
    },
    {
     "name": "stdout",
     "output_type": "stream",
     "text": [
      "Total data training: 2000\n",
      "Positif: 1000 | Negatif: 1000\n",
      "\n"
     ]
    },
    {
     "name": "stderr",
     "output_type": "stream",
     "text": [
      "\n"
     ]
    }
   ],
   "source": [
    "train_texts, train_labels = load_imdb_data(train_path, limit=1000)\n",
    "print(f\"Total data training: {len(train_texts)}\")\n",
    "print(f\"Positif: {train_labels.count(1)} | Negatif: {train_labels.count(0)}\\n\")"
   ]
  },
  {
   "cell_type": "code",
   "execution_count": 7,
   "id": "0be0cc5d-fdc1-4d48-9f16-f6aa610d1996",
   "metadata": {},
   "outputs": [],
   "source": [
    "#Muat data test"
   ]
  },
  {
   "cell_type": "code",
   "execution_count": 5,
   "id": "ee6419b7-ba1d-4969-af8a-dee1d94602fb",
   "metadata": {},
   "outputs": [
    {
     "name": "stdout",
     "output_type": "stream",
     "text": [
      "Membaca data dari: C:\\Users\\mahru\\Downloads\\aclImdb_v1\\aclImdb\\test\n"
     ]
    },
    {
     "name": "stderr",
     "output_type": "stream",
     "text": [
      "Memuat ulasan pos: 100%|████████████████████████████████████████████████████████████| 400/400 [00:02<00:00, 147.37it/s]\n",
      "Memuat ulasan neg: 100%|████████████████████████████████████████████████████████████| 400/400 [00:02<00:00, 155.26it/s]"
     ]
    },
    {
     "name": "stdout",
     "output_type": "stream",
     "text": [
      "Total data testing: 800\n",
      "Positif: 400 | Negatif: 400\n"
     ]
    },
    {
     "name": "stderr",
     "output_type": "stream",
     "text": [
      "\n"
     ]
    }
   ],
   "source": [
    "test_texts, test_labels = load_imdb_data(test_path, limit=400)\n",
    "print(f\"Total data testing: {len(test_texts)}\")\n",
    "print(f\"Positif: {test_labels.count(1)} | Negatif: {test_labels.count(0)}\")"
   ]
  },
  {
   "cell_type": "code",
   "execution_count": 9,
   "id": "ebd8342d-af60-403e-b72e-1832cdf573ef",
   "metadata": {},
   "outputs": [
    {
     "name": "stdout",
     "output_type": "stream",
     "text": [
      "\n",
      "Memuat pre-trained BERT tokenizer dan model...\n",
      "BERT siap digunakan.\n"
     ]
    }
   ],
   "source": [
    "#Setup Tokenizer dan Model BERT\n",
    "print(\"\\nMemuat pre-trained BERT tokenizer dan model...\")\n",
    "tokenizer = BertTokenizer.from_pretrained(\"bert-base-uncased\")\n",
    "bert = BertModel.from_pretrained(\"bert-base-uncased\")\n",
    "bert.eval()  # Set model ke mode evaluasi\n",
    "print(\"BERT siap digunakan.\")"
   ]
  },
  {
   "cell_type": "code",
   "execution_count": 10,
   "id": "3adcb7ab-b426-4322-973f-4617c8f58949",
   "metadata": {},
   "outputs": [],
   "source": [
    "#Mengubah teks menjadi embedding\n",
    "def get_bert_embedding(text):\n",
    "    \"\"\"Mengubah satu teks menjadi vektor embedding BERT (768 dimensi).\"\"\"\n",
    "    inputs = tokenizer(text, return_tensors=\"pt\", truncation=True, padding=True, max_length=128)\n",
    "    with torch.no_grad():\n",
    "        outputs = bert(**inputs)\n",
    "    # Ambil embedding dari token [CLS]\n",
    "    return outputs.last_hidden_state[:, 0, :].squeeze().numpy()"
   ]
  },
  {
   "cell_type": "code",
   "execution_count": 11,
   "id": "3990a710-374c-43dd-b11a-9f98616eb80b",
   "metadata": {},
   "outputs": [
    {
     "name": "stdout",
     "output_type": "stream",
     "text": [
      "\n",
      "Membuat embedding untuk data training...\n"
     ]
    },
    {
     "name": "stderr",
     "output_type": "stream",
     "text": [
      "100%|██████████████████████████████████████████████████████████████████████████████| 2000/2000 [02:46<00:00, 12.03it/s]\n"
     ]
    },
    {
     "name": "stdout",
     "output_type": "stream",
     "text": [
      "\n",
      "Membuat embedding untuk data testing...\n"
     ]
    },
    {
     "name": "stderr",
     "output_type": "stream",
     "text": [
      "100%|████████████████████████████████████████████████████████████████████████████████| 800/800 [01:03<00:00, 12.62it/s]"
     ]
    },
    {
     "name": "stdout",
     "output_type": "stream",
     "text": [
      "\n",
      "Bentuk X_train: (2000, 768)\n",
      "Bentuk y_train: (2000,)\n",
      "Bentuk X_test: (800, 768)\n",
      "Bentuk y_test: (800,)\n"
     ]
    },
    {
     "name": "stderr",
     "output_type": "stream",
     "text": [
      "\n"
     ]
    }
   ],
   "source": [
    "print(\"\\nMembuat embedding untuk data training...\")\n",
    "X_train = [get_bert_embedding(text) for text in tqdm(train_texts)]\n",
    "\n",
    "# Proses data testing\n",
    "print(\"\\nMembuat embedding untuk data testing...\")\n",
    "X_test = [get_bert_embedding(text) for text in tqdm(test_texts)]\n",
    "\n",
    "# Konversi ke numpy array\n",
    "X_train = np.array(X_train)\n",
    "y_train = np.array(train_labels)\n",
    "X_test = np.array(X_test)\n",
    "y_test = np.array(test_labels)\n",
    "\n",
    "# Cetak bentuk data untuk memastikan\n",
    "print(f\"\\nBentuk X_train: {X_train.shape}\")\n",
    "print(f\"Bentuk y_train: {y_train.shape}\")\n",
    "print(f\"Bentuk X_test: {X_test.shape}\")\n",
    "print(f\"Bentuk y_test: {y_test.shape}\")\n"
   ]
  },
  {
   "cell_type": "code",
   "execution_count": 12,
   "id": "df98d54e-3ae8-4764-a41d-4475c6fe93fc",
   "metadata": {},
   "outputs": [
    {
     "name": "stdout",
     "output_type": "stream",
     "text": [
      "\n",
      "Melatih model SVM pada seluruh data training...\n",
      "Model selesai dilatih.\n",
      "\n",
      "Mengevaluasi performa model pada data testing...\n",
      "\n",
      "Laporan Klasifikasi:\n",
      "              precision    recall  f1-score   support\n",
      "\n",
      "     Negatif       0.74      0.78      0.76       400\n",
      "     Positif       0.77      0.72      0.74       400\n",
      "\n",
      "    accuracy                           0.75       800\n",
      "   macro avg       0.75      0.75      0.75       800\n",
      "weighted avg       0.75      0.75      0.75       800\n",
      "\n"
     ]
    }
   ],
   "source": [
    "# Inisialisasi model SVM\n",
    "clf = SVC(kernel='linear', probability=True)\n",
    "\n",
    "# Latih model HANYA pada data training\n",
    "print(\"\\nMelatih model SVM pada seluruh data training...\")\n",
    "clf.fit(X_train, y_train)\n",
    "print(\"Model selesai dilatih.\")\n",
    "\n",
    "# Evaluasi model pada data testing\n",
    "print(\"\\nMengevaluasi performa model pada data testing...\")\n",
    "y_pred = clf.predict(X_test)\n",
    "\n",
    "# Tampilkan laporan klasifikasi\n",
    "print(\"\\nLaporan Klasifikasi:\")\n",
    "print(classification_report(y_test, y_pred, target_names=['Negatif', 'Positif']))\n"
   ]
  },
  {
   "cell_type": "code",
   "execution_count": 13,
   "id": "2ec08ff9-d435-4e47-87c8-017d7a699635",
   "metadata": {},
   "outputs": [
    {
     "name": "stdout",
     "output_type": "stream",
     "text": [
      "\n",
      "Model telah disimpan sebagai 'svm_imdb_model.pkl'\n"
     ]
    }
   ],
   "source": [
    "model_filename = \"svm_imdb_model.pkl\"\n",
    "with open(model_filename, \"wb\") as f:\n",
    "    pickle.dump(clf, f)\n",
    "print(f\"\\nModel telah disimpan sebagai '{model_filename}'\")"
   ]
  },
  {
   "cell_type": "code",
   "execution_count": null,
   "id": "da8c0730-285c-49a4-8195-97c835466113",
   "metadata": {},
   "outputs": [],
   "source": []
  }
 ],
 "metadata": {
  "kernelspec": {
   "display_name": "Python 3 (ipykernel)",
   "language": "python",
   "name": "python3"
  },
  "language_info": {
   "codemirror_mode": {
    "name": "ipython",
    "version": 3
   },
   "file_extension": ".py",
   "mimetype": "text/x-python",
   "name": "python",
   "nbconvert_exporter": "python",
   "pygments_lexer": "ipython3",
   "version": "3.12.7"
  }
 },
 "nbformat": 4,
 "nbformat_minor": 5
}
