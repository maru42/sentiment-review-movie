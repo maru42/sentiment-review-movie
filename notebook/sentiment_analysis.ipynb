{
 "cells": [
  {
   "cell_type": "code",
   "execution_count": null,
   "id": "c89d160a-fa69-4e30-b5ab-8805d6072ff9",
   "metadata": {},
   "outputs": [],
   "source": [
    "import os\n",
    "import numpy as np\n",
    "import pandas as pd\n",
    "from tqdm import tqdm\n",
    "from transformers import BertTokenizer, BertModel\n",
    "from sklearn.svm import SVC\n",
    "from sklearn.metrics import classification_report, confusion_matrix\n",
    "import pickle\n",
    "import torch\n",
    "import re"
   ]
  },
  {
   "cell_type": "code",
   "execution_count": 2,
   "id": "a913a37a-fec5-48d0-b749-9ffe7202633f",
   "metadata": {},
   "outputs": [],
   "source": [
    "def load_imdb_data(path, limit=None):\n",
    "    \"\"\"\n",
    "    Fungsi untuk memuat data dari folder dataset IMDb.\n",
    "    Fungsi ini juga akan secara otomatis membersihkan tag HTML dari teks.\n",
    "    \"\"\"\n",
    "    texts = []\n",
    "    labels = []\n",
    "    print(f\"Membaca data dari: {path}\")\n",
    "    for label in ['pos', 'neg']:\n",
    "        label_path = os.path.join(path, label)\n",
    "        files = os.listdir(label_path)\n",
    "        if limit:\n",
    "            files = files[:limit]\n",
    "        \n",
    "        files_iterable = tqdm(files, desc=f'Memuat ulasan {label}')\n",
    "        for file in files_iterable:\n",
    "            with open(os.path.join(label_path, file), encoding='utf-8') as f:\n",
    "                raw_text = f.read()\n",
    "                clean_text = re.sub(r'<.*?>', ' ', raw_text) # Hapus HTML\n",
    "                texts.append(clean_text)\n",
    "                labels.append(1 if label == 'pos' else 0)\n",
    "    return texts, labels"
   ]
  },
  {
   "cell_type": "code",
   "execution_count": null,
   "id": "b771de4a-2d62-417f-9e10-280c43171acc",
   "metadata": {},
   "outputs": [],
   "source": [
    "base_path = r\"/path/folder/aclImdb\"\n",
    "train_path = os.path.join(base_path, \"train\")\n",
    "test_path = os.path.join(base_path, \"test\")"
   ]
  },
  {
   "cell_type": "code",
   "execution_count": 4,
   "id": "f7c9e5c1-f904-4710-98e5-600e634df164",
   "metadata": {},
   "outputs": [],
   "source": [
    "#Muat data train"
   ]
  },
  {
   "cell_type": "code",
   "execution_count": null,
   "id": "f06fe8ee-5cf8-474b-aa4c-e84fdd58e4af",
   "metadata": {},
   "outputs": [],
   "source": [
    "train_texts, train_labels = load_imdb_data(train_path, limit=1000)\n",
    "print(f\"Total data training: {len(train_texts)}\")\n",
    "print(f\"Positif: {train_labels.count(1)} | Negatif: {train_labels.count(0)}\\n\")"
   ]
  },
  {
   "cell_type": "code",
   "execution_count": 6,
   "id": "0be0cc5d-fdc1-4d48-9f16-f6aa610d1996",
   "metadata": {},
   "outputs": [],
   "source": [
    "#Muat data test"
   ]
  },
  {
   "cell_type": "code",
   "execution_count": null,
   "id": "ee6419b7-ba1d-4969-af8a-dee1d94602fb",
   "metadata": {},
   "outputs": [],
   "source": [
    "test_texts, test_labels = load_imdb_data(test_path, limit=400)\n",
    "print(f\"Total data testing: {len(test_texts)}\")\n",
    "print(f\"Positif: {test_labels.count(1)} | Negatif: {test_labels.count(0)}\")"
   ]
  },
  {
   "cell_type": "code",
   "execution_count": null,
   "id": "ebd8342d-af60-403e-b72e-1832cdf573ef",
   "metadata": {},
   "outputs": [],
   "source": [
    "#Setup Tokenizer dan Model BERT\n",
    "print(\"\\nMemuat pre-trained BERT tokenizer dan model...\")\n",
    "tokenizer = BertTokenizer.from_pretrained(\"bert-base-uncased\")\n",
    "bert = BertModel.from_pretrained(\"bert-base-uncased\")\n",
    "bert.eval()  # Set model ke mode evaluasi\n",
    "print(\"BERT siap digunakan.\")"
   ]
  },
  {
   "cell_type": "code",
   "execution_count": 9,
   "id": "3adcb7ab-b426-4322-973f-4617c8f58949",
   "metadata": {},
   "outputs": [],
   "source": [
    "#Mengubah teks menjadi embedding\n",
    "def get_bert_embedding(text):\n",
    "    \"\"\"Mengubah satu teks menjadi vektor embedding BERT (768 dimensi).\"\"\"\n",
    "    inputs = tokenizer(text, return_tensors=\"pt\", truncation=True, padding=True, max_length=128)\n",
    "    with torch.no_grad():\n",
    "        outputs = bert(**inputs)\n",
    "    # Ambil embedding dari token [CLS]\n",
    "    return outputs.last_hidden_state[:, 0, :].squeeze().numpy()"
   ]
  },
  {
   "cell_type": "code",
   "execution_count": null,
   "id": "3990a710-374c-43dd-b11a-9f98616eb80b",
   "metadata": {},
   "outputs": [],
   "source": [
    "print(\"\\nMembuat embedding untuk data training...\")\n",
    "X_train = [get_bert_embedding(text) for text in tqdm(train_texts)]\n",
    "\n",
    "# Proses data testing\n",
    "print(\"\\nMembuat embedding untuk data testing...\")\n",
    "X_test = [get_bert_embedding(text) for text in tqdm(test_texts)]\n",
    "\n",
    "# Konversi ke numpy array\n",
    "X_train = np.array(X_train)\n",
    "y_train = np.array(train_labels)\n",
    "X_test = np.array(X_test)\n",
    "y_test = np.array(test_labels)\n",
    "\n",
    "# Cetak bentuk data untuk memastikan\n",
    "print(f\"\\nBentuk X_train: {X_train.shape}\")\n",
    "print(f\"Bentuk y_train: {y_train.shape}\")\n",
    "print(f\"Bentuk X_test: {X_test.shape}\")\n",
    "print(f\"Bentuk y_test: {y_test.shape}\")\n"
   ]
  },
  {
   "cell_type": "code",
   "execution_count": null,
   "id": "df98d54e-3ae8-4764-a41d-4475c6fe93fc",
   "metadata": {},
   "outputs": [],
   "source": [
    "# Inisialisasi model SVM\n",
    "clf = SVC(kernel='linear', probability=True)\n",
    "\n",
    "# Latih model HANYA pada data training\n",
    "print(\"\\nMelatih model SVM pada seluruh data training...\")\n",
    "clf.fit(X_train, y_train)\n",
    "print(\"Model selesai dilatih.\")\n",
    "\n",
    "# Evaluasi model pada data testing\n",
    "print(\"\\nMengevaluasi performa model pada data testing...\")\n",
    "y_pred = clf.predict(X_test)\n",
    "\n",
    "# Tampilkan laporan klasifikasi\n",
    "print(\"\\nLaporan Klasifikasi:\")\n",
    "print(classification_report(y_test, y_pred, target_names=['Negatif', 'Positif']))\n"
   ]
  },
  {
   "cell_type": "code",
   "execution_count": null,
   "id": "2ec08ff9-d435-4e47-87c8-017d7a699635",
   "metadata": {},
   "outputs": [],
   "source": [
    "model_filename = \"svm_imdb_model.pkl\"\n",
    "with open(model_filename, \"wb\") as f:\n",
    "    pickle.dump(clf, f)\n",
    "print(f\"\\nModel telah disimpan sebagai '{model_filename}'\")"
   ]
  },
  {
   "cell_type": "code",
   "execution_count": null,
   "id": "da8c0730-285c-49a4-8195-97c835466113",
   "metadata": {},
   "outputs": [],
   "source": []
  }
 ],
 "metadata": {
  "kernelspec": {
   "display_name": "Python 3",
   "language": "python",
   "name": "python3"
  },
  "language_info": {
   "codemirror_mode": {
    "name": "ipython",
    "version": 3
   },
   "file_extension": ".py",
   "mimetype": "text/x-python",
   "name": "python",
   "nbconvert_exporter": "python",
   "pygments_lexer": "ipython3",
   "version": "3.12.2"
  }
 },
 "nbformat": 4,
 "nbformat_minor": 5
}
